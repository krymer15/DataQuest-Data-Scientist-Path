{
 "cells": [
  {
   "cell_type": "markdown",
   "metadata": {},
   "source": [
    "<h1>Guided Project: Exploring Hacker News Posts</h1>\n",
    "\n",
    "This is a guided project from the DataQuest site. We will use a sample of a dataset from <a href='https://www.kaggle.com/hacker-news/hacker-news-posts' a>Kaggle</a> that contains information on various posts to the <a href='https://news.ycombinator.com/' a>Hacker News site</a>."
   ]
  },
  {
   "cell_type": "code",
   "execution_count": 6,
   "metadata": {},
   "outputs": [],
   "source": [
    "from csv import reader\n",
    "open_file = open('hacker_news.csv')\n",
    "read_file = reader(open_file)\n",
    "hn = list(read_file)\n",
    "hn_header = hn[0]\n",
    "hn = hn[1:]\n",
    "ask_posts = []\n",
    "show_posts = []\n",
    "other_posts = []\n",
    "\n",
    "for row in hn:\n",
    "    title = row[1]\n",
    "    if title.lower().startswith(\"ask hn\"):\n",
    "        ask_posts.append(row)\n",
    "    elif title.lower().startswith(\"show hn\"):\n",
    "        show_posts.append(row)\n",
    "    else:\n",
    "        other_posts.append(row)"
   ]
  },
  {
   "cell_type": "markdown",
   "metadata": {},
   "source": [
    "First let's see which type of post gets more comments, on average: Ask posts or Show posts."
   ]
  },
  {
   "cell_type": "code",
   "execution_count": 15,
   "metadata": {},
   "outputs": [
    {
     "name": "stdout",
     "output_type": "stream",
     "text": [
      "Average number of ask comments:  14.038417431192661\n",
      "Average number of show comments:  10.31669535283993\n"
     ]
    }
   ],
   "source": [
    "total_ask_comments = []\n",
    "for post in ask_posts:\n",
    "    value = int(post[4])\n",
    "    total_ask_comments.append(value)\n",
    "avg_ask_comments = sum(total_ask_comments) / len(total_ask_comments)\n",
    "print(\"Average number of ask comments: \", avg_ask_comments)\n",
    "\n",
    "total_show_comments = []\n",
    "for post in show_posts:\n",
    "    value = int(post[4])\n",
    "    total_show_comments.append(value)\n",
    "avg_show_comments = sum(total_show_comments) / len(total_show_comments)\n",
    "print(\"Average number of show comments: \", avg_show_comments)"
   ]
  },
  {
   "cell_type": "markdown",
   "metadata": {},
   "source": [
    "It appears that ask posts (14.04) garner more comments on average than show posts(at 10.31). As ask posts receive more comments, we will focus our analysis on these posts.\n",
    "\n",
    "Next, are ask posts created at a certain time more likely to attract comments? First we will calculate the number of ask posts created during each hour of the day as well as the number of comments received. Then, we will calculate the average number of comments that ask posts receive by hour created."
   ]
  },
  {
   "cell_type": "code",
   "execution_count": 86,
   "metadata": {},
   "outputs": [],
   "source": [
    "import datetime as dt\n",
    "\n",
    "result_list = []\n",
    "for post in ask_posts:\n",
    "    date_created = post[6] # pull date post was created\n",
    "    n_comments = int(post[4])\n",
    "    result_list.append([date_created, n_comments])\n",
    "\n",
    "counts_by_hour = {}\n",
    "comments_by_hour = {}\n",
    "\n",
    "for row in result_list:\n",
    "    date = dt.datetime.strptime(row[0], \"%m/%d/%Y %H:%M\")\n",
    "    hour = date.strftime(\"%H\")\n",
    "    if hour not in counts_by_hour:\n",
    "        counts_by_hour[hour] = 1\n",
    "        comments_by_hour[hour] = row[1]\n",
    "    else:\n",
    "        counts_by_hour[hour] += 1\n",
    "        comments_by_hour[hour] += row[1]"
   ]
  },
  {
   "cell_type": "code",
   "execution_count": 88,
   "metadata": {},
   "outputs": [
    {
     "data": {
      "text/plain": [
       "[['09', 5.5777777777777775],\n",
       " ['13', 14.741176470588234],\n",
       " ['10', 13.440677966101696],\n",
       " ['14', 13.233644859813085],\n",
       " ['16', 16.796296296296298],\n",
       " ['23', 7.985294117647059],\n",
       " ['12', 9.41095890410959],\n",
       " ['17', 11.46],\n",
       " ['15', 38.5948275862069]]"
      ]
     },
     "execution_count": 88,
     "metadata": {},
     "output_type": "execute_result"
    }
   ],
   "source": [
    "avg_by_hour = []\n",
    "\n",
    "for hour, value in counts_by_hour.items():\n",
    "    n_comments = comments_by_hour[hour]\n",
    "    count = value\n",
    "    if count == 0:\n",
    "        average = 0\n",
    "    else:\n",
    "        average = n_comments / count\n",
    "    avg_by_hour.append([hour, average])\n",
    "        \n",
    "avg_by_hour[0:9]"
   ]
  },
  {
   "cell_type": "code",
   "execution_count": 103,
   "metadata": {},
   "outputs": [
    {
     "name": "stdout",
     "output_type": "stream",
     "text": [
      "[[5.5777777777777775, '09'], [14.741176470588234, '13'], [13.440677966101696, '10'], [13.233644859813085, '14'], [16.796296296296298, '16'], [7.985294117647059, '23'], [9.41095890410959, '12'], [11.46, '17'], [38.5948275862069, '15'], [16.009174311926607, '21'], [21.525, '20'], [23.810344827586206, '02'], [13.20183486238532, '18'], [7.796296296296297, '03'], [10.08695652173913, '05'], [10.8, '19'], [11.383333333333333, '01'], [6.746478873239437, '22'], [10.25, '08'], [7.170212765957447, '04'], [8.127272727272727, '00'], [9.022727272727273, '06'], [7.852941176470588, '07'], [11.051724137931034, '11']]\n",
      "Top 5 Hours for Ask Post Comments:\n",
      "15:00: 38.59 average comments per post\n",
      "02:00: 23.81 average comments per post\n",
      "20:00: 21.52 average comments per post\n",
      "16:00: 16.80 average comments per post\n",
      "21:00: 16.01 average comments per post\n",
      "13:00: 14.74 average comments per post\n",
      "10:00: 13.44 average comments per post\n",
      "14:00: 13.23 average comments per post\n",
      "18:00: 13.20 average comments per post\n",
      "17:00: 11.46 average comments per post\n",
      "01:00: 11.38 average comments per post\n",
      "11:00: 11.05 average comments per post\n",
      "19:00: 10.80 average comments per post\n",
      "08:00: 10.25 average comments per post\n",
      "05:00: 10.09 average comments per post\n",
      "12:00: 9.41 average comments per post\n",
      "06:00: 9.02 average comments per post\n",
      "00:00: 8.13 average comments per post\n",
      "23:00: 7.99 average comments per post\n",
      "07:00: 7.85 average comments per post\n",
      "03:00: 7.80 average comments per post\n",
      "04:00: 7.17 average comments per post\n",
      "22:00: 6.75 average comments per post\n",
      "09:00: 5.58 average comments per post\n"
     ]
    }
   ],
   "source": [
    "swap_avg_by_hour = []\n",
    "for row in avg_by_hour:\n",
    "    row0 = row[1]\n",
    "    row1 = row[0]\n",
    "    swap_avg_by_hour.append([row0, row1])\n",
    "print(swap_avg_by_hour)\n",
    "\n",
    "sorted_swap = sorted(swap_avg_by_hour, reverse=True)\n",
    "print(\"Top 5 Hours for Ask Post Comments:\")\n",
    "\n",
    "for row in sorted_swap:\n",
    "    average = row[0]\n",
    "    hour = dt.datetime.strptime(row[1], \"%H\")\n",
    "    hour = dt.datetime.strftime(hour, \"%H:%M\")\n",
    "    #print(hour, type(average))\n",
    "    template = \"{hour_window}: {avg_comments:.2f} average comments per post\"\n",
    "    output = template.format(hour_window=hour, avg_comments=average)\n",
    "    print(output)"
   ]
  },
  {
   "cell_type": "markdown",
   "metadata": {},
   "source": [
    "According to the results of the data analysis above, the posts made during the hour beginning at 3pm receive the most comments on average at 38.59 comments. This is followed by 2am and 8pm. So while there is no real period of the day that stands out (the top hours are scattered) this does give us some time periods during which posting may get optimal activity. However, further statistical testing, sampling and data analysis is needed to gain a better understanding."
   ]
  },
  {
   "cell_type": "code",
   "execution_count": null,
   "metadata": {},
   "outputs": [],
   "source": []
  }
 ],
 "metadata": {
  "kernelspec": {
   "display_name": "Python 3",
   "language": "python",
   "name": "python3"
  },
  "language_info": {
   "codemirror_mode": {
    "name": "ipython",
    "version": 3
   },
   "file_extension": ".py",
   "mimetype": "text/x-python",
   "name": "python",
   "nbconvert_exporter": "python",
   "pygments_lexer": "ipython3",
   "version": "3.8.2"
  }
 },
 "nbformat": 4,
 "nbformat_minor": 2
}
